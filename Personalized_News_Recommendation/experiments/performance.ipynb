{
 "cells": [
  {
   "cell_type": "markdown",
   "metadata": {},
   "source": [
    "# Performance \n",
    "Execution times for the multi armed bandit algorithms - Experiments run on a Macbook Air M1"
   ]
  },
  {
   "cell_type": "code",
   "execution_count": 1,
   "metadata": {},
   "outputs": [
    {
     "data": {
      "text/plain": [
       "'d:\\\\download\\\\python_lianxi\\\\HW\\\\rl_project\\\\Personalized_News_Recommendation'"
      ]
     },
     "execution_count": 1,
     "metadata": {},
     "output_type": "execute_result"
    }
   ],
   "source": [
    "import os\n",
    "os.chdir('..')\n",
    "os.getcwd()"
   ]
  },
  {
   "cell_type": "code",
   "execution_count": 2,
   "metadata": {
    "pycharm": {
     "is_executing": false,
     "name": "#%%\n"
    }
   },
   "outputs": [],
   "source": [
    "%load_ext autoreload\n",
    "%autoreload 2\n",
    "from bandits import *\n",
    "from evaluator import evaluate\n",
    "import dataset"
   ]
  },
  {
   "cell_type": "code",
   "execution_count": 3,
   "metadata": {},
   "outputs": [
    {
     "name": "stdout",
     "output_type": "stream",
     "text": [
      "4681992 events with 50 articles\n",
      "CPU times: total: 57.3 s\n",
      "Wall time: 1min 44s\n"
     ]
    }
   ],
   "source": [
    "%%time\n",
    "import dataset\n",
    "# files = (f\"../../../data/R6/ydata-fp-td-clicks-v1_0.20090501\",f\"../../../data/R6/ydata-fp-td-clicks-v1_0.20090503\")\n",
    "files = (f\"../../../data/R6/ydata-fp-td-clicks-v1_0.20090501\")\n",
    "dataset.get_yahoo_events(files)"
   ]
  },
  {
   "cell_type": "code",
   "execution_count": 6,
   "metadata": {},
   "outputs": [
    {
     "name": "stdout",
     "output_type": "stream",
     "text": [
      "Egreedy (epsilon=1) 0.0352    1.5s\n"
     ]
    }
   ],
   "source": [
    "_, deploy_ctr = evaluate(Egreedy(1),size=10,learn_ratio=0.9,is_training=True)\n",
    "deploy_rnd_ctr = deploy_ctr[-1]"
   ]
  },
  {
   "cell_type": "code",
   "execution_count": 8,
   "metadata": {},
   "outputs": [
    {
     "name": "stdout",
     "output_type": "stream",
     "text": [
      "Egreedy (epsilon=0.1)0.0529    2.4s\n",
      "TS                  0.0523    9.1s\n",
      "UCB1 (alpha=0.1)    0.0481    4.5s\n",
      "LinUCB(alpha=0.3,context:user)0.0565    13.6s\n",
      "LinUCB(alpha=0.1,context:both)0.053     17.8s\n",
      "KernelUCB(alpha=1.1,context:user)0.0638    8.3m\n"
     ]
    }
   ],
   "source": [
    "models_name = ['Egreedy(0.1)','TS','Ucb1(0.1)','linucb_disjoint','linucb_hybrid','kernelucb_disjoint']\n",
    "tests = [Egreedy(0.1),ThompsonSampling(),Ucb1(0.1),LinUCB(0.3,context=\"user\"),LinUCB(0.1,context=\"both\"),KernelUCB(1.1)]\n",
    "\n",
    "for i,test in enumerate(tests):\n",
    "    l_ctr,d_ctr = evaluate(test,size=10,learn_ratio=0.9,is_training=True)\n",
    "    l_ctr,d_ctr = l_ctr[-1]/deploy_rnd_ctr,d_ctr[-1]/deploy_rnd_ctr\n",
    "    with open('../output/log.txt','a') as f:\n",
    "        f.write(f\"\\n{str(models_name[i])}'s learning_ctr is {l_ctr}, deploying_ctr is {d_ctr}\")"
   ]
  },
  {
   "cell_type": "code",
   "execution_count": 6,
   "metadata": {
    "pycharm": {
     "is_executing": false,
     "name": "#%%\n"
    }
   },
   "outputs": [
    {
     "name": "stdout",
     "output_type": "stream",
     "text": [
      "Egreedy (ε=0.1)     0.0397    10.2s\n",
      "TS                  0.0421    45.4s\n",
      "UCB1 (α=0.1)        0.0421    21.9s\n",
      "LinUCB (α=0.3, context:both)0.0531    3.0m\n",
      "LinUCB (α=0.3, context:user)0.0521    2.9m\n"
     ]
    }
   ],
   "source": [
    "import pickle\n",
    "linucb_disjoint_file = '../output/instance_LinUCB_disjoint.pkl'\n",
    "linucb_hybrid_file = '../output/instance_LinUCB_hybrid.pkl'\n",
    "tests = [Egreedy(0.1),ThompsonSampling(),Ucb1(0.1)]\n",
    "\n",
    "models_name = ['Egreedy(0.1)','TS','Ucb1(0.1)','linucb_disjoint','linucb_hybrid']\n",
    "tests.append(pickle.load(linucb_disjoint_file))\n",
    "tests.append(pickle.load(linucb_hybrid_file))\n",
    "\n",
    "for i,test in enumerate(tests):\n",
    "    l_ctr,d_ctr = evaluate(test,learn_ratio=0.3,is_training=False)\n",
    "    l_ctr,d_ctr = l_ctr/deploy_rnd_ctr,d_ctr/deploy_rnd_ctr\n",
    "    with open('../output/log.txt','a') as f:\n",
    "        f.write(f\"\\n{str(models_name[i])}'s learning_ctr is {l_ctr}, deploying_ctr is {d_ctr}\")"
   ]
  }
 ],
 "metadata": {
  "kernelspec": {
   "display_name": "base",
   "language": "python",
   "name": "python3"
  },
  "language_info": {
   "codemirror_mode": {
    "name": "ipython",
    "version": 3
   },
   "file_extension": ".py",
   "mimetype": "text/x-python",
   "name": "python",
   "nbconvert_exporter": "python",
   "pygments_lexer": "ipython3",
   "version": "3.11.7"
  },
  "pycharm": {
   "stem_cell": {
    "cell_type": "raw",
    "metadata": {
     "collapsed": false
    },
    "source": []
   }
  }
 },
 "nbformat": 4,
 "nbformat_minor": 1
}
